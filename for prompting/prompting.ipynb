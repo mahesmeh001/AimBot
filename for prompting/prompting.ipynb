{
 "cells": [
  {
   "cell_type": "code",
   "execution_count": 56,
   "id": "initial_id",
   "metadata": {
    "collapsed": true,
    "ExecuteTime": {
     "end_time": "2024-10-24T20:32:20.155155Z",
     "start_time": "2024-10-24T20:32:20.149929Z"
    }
   },
   "outputs": [],
   "source": [
    "# open up game changers, oct and vct\n",
    "import json"
   ]
  },
  {
   "cell_type": "code",
   "outputs": [],
   "source": [
    "# Open and load the JSON file\n",
    "with open('game-changers.json', 'r') as file:\n",
    "    gameChangers = json.load(file)\n",
    "# Open and load the JSON file\n",
    "with open('vct-challengers.json', 'r') as file:\n",
    "    vctChallengers = json.load(file)\n",
    "    # Open and load the JSON file\n",
    "with open('vct-international.json', 'r') as file:\n",
    "    vctInternational = json.load(file)"
   ],
   "metadata": {
    "collapsed": false,
    "ExecuteTime": {
     "end_time": "2024-10-24T20:32:20.371517Z",
     "start_time": "2024-10-24T20:32:20.157190Z"
    }
   },
   "id": "dc2816bf1cd9f4b9",
   "execution_count": 57
  },
  {
   "cell_type": "code",
   "outputs": [
    {
     "name": "stdout",
     "output_type": "stream",
     "text": [
      "{'handle': 'Stefanie', 'date': '2023-10-03T08:46:46', 'status': 'active', 'first_name': 'Stefanie', 'last_name': 'Jones', 'home_team_name': 'Version 1', 'home_team_acronym': 'V1', 'home_league_name': 'game_changers_na', 'region': 'NA', 'tournament': 'game-changers', 'career_statistics': {'total_rounds_played': 157, 'attack_kda': 0.84, 'defense_kda': 1.48, 'avg_kills_per_round': 0.67, 'avg_assists_per_round': 0.19, 'avg_combat_score_per_round': 196.65, 'avg_revives_per_round': 0.04, 'avg_damage_dealt_per_round': 105.72, 'avg_first_bloods_per_round': 0.15, 'avg_first_deaths_per_round': 0.1}, 'player_statistics_per_agent': {'Sentinel': {'Killjoy': {'total_rounds_played': 115, 'attack_kda': 0.71, 'defense_kda': 1.38, 'avg_kills_per_round': 0.63, 'avg_assists_per_round': 0.17, 'avg_combat_score_per_round': 190.04, 'avg_revives_per_round': 0.0, 'avg_damage_dealt_per_round': 104.87, 'avg_first_bloods_per_round': 0.16, 'avg_first_deaths_per_round': 0.1}, 'Sage': {'total_rounds_played': 42, 'attack_kda': 1.25, 'defense_kda': 1.75, 'avg_kills_per_round': 0.79, 'avg_assists_per_round': 0.24, 'avg_combat_score_per_round': 214.74, 'avg_revives_per_round': 0.14, 'avg_damage_dealt_per_round': 108.05, 'avg_first_bloods_per_round': 0.12, 'avg_first_deaths_per_round': 0.1}}}}\n"
     ]
    }
   ],
   "source": [
    "# 'data' now contains the contents of the JSON file as a dictionary\n",
    "# Get the first key-value pair from the dictionary\n",
    "print(gameChangers[1])"
   ],
   "metadata": {
    "collapsed": false,
    "ExecuteTime": {
     "end_time": "2024-10-24T20:32:20.376273Z",
     "start_time": "2024-10-24T20:32:20.373004Z"
    }
   },
   "id": "262a0b1184d03099",
   "execution_count": 58
  },
  {
   "cell_type": "code",
   "outputs": [
    {
     "name": "stdout",
     "output_type": "stream",
     "text": [
      "1512\n",
      "2837\n",
      "845\n"
     ]
    }
   ],
   "source": [
    "print(len(gameChangers))\n",
    "print(len(vctChallengers))\n",
    "print(len(vctInternational))"
   ],
   "metadata": {
    "collapsed": false,
    "ExecuteTime": {
     "end_time": "2024-10-24T20:32:20.381059Z",
     "start_time": "2024-10-24T20:32:20.377083Z"
    }
   },
   "id": "b54c20d0bbe5cdae",
   "execution_count": 59
  },
  {
   "cell_type": "code",
   "outputs": [
    {
     "data": {
      "text/plain": "0"
     },
     "execution_count": 60,
     "metadata": {},
     "output_type": "execute_result"
    }
   ],
   "source": [
    "len(gameChangers[0]['career_statistics'])"
   ],
   "metadata": {
    "collapsed": false,
    "ExecuteTime": {
     "end_time": "2024-10-24T20:32:20.387434Z",
     "start_time": "2024-10-24T20:32:20.383982Z"
    }
   },
   "id": "862cc804db67c919",
   "execution_count": 60
  },
  {
   "cell_type": "code",
   "outputs": [
    {
     "name": "stdout",
     "output_type": "stream",
     "text": [
      "619\n",
      "1359\n",
      "329\n"
     ]
    }
   ],
   "source": [
    "# get rid of everyone who has blank career stats \n",
    "\n",
    "# Remove players with blank career stats\n",
    "gameChangers = [player for player in gameChangers if len(player['career_statistics']) > 0]\n",
    "vctChallengers = [player for player in vctChallengers if len(player['career_statistics']) > 0]\n",
    "vctInternational = [player for player in vctInternational if len(player['career_statistics']) > 0]\n",
    "\n",
    "\n",
    "print(len(gameChangers))    \n",
    "print(len(vctChallengers)) \n",
    "print(len(vctInternational))"
   ],
   "metadata": {
    "collapsed": false,
    "ExecuteTime": {
     "end_time": "2024-10-24T20:32:20.457888Z",
     "start_time": "2024-10-24T20:32:20.393012Z"
    }
   },
   "id": "b59c3fe73cb34ee3",
   "execution_count": 61
  },
  {
   "cell_type": "code",
   "outputs": [
    {
     "data": {
      "text/plain": "100"
     },
     "execution_count": 62,
     "metadata": {},
     "output_type": "execute_result"
    }
   ],
   "source": [
    "# Function to sort by a field and add unique players to the final dict\n",
    "def add_top_players(tournament, field, num_players, selected_players):\n",
    "    # Sort the players by the given field in descending order\n",
    "    sorted_players = sorted(tournament, key=lambda x: x['career_statistics'][field], reverse=True)\n",
    "    \n",
    "    added_count = 0\n",
    "    for player in sorted_players:\n",
    "        # Check if the player is already added (use 'id' to track uniqueness)\n",
    "        if player['handle'] not in selected_players:\n",
    "            selected_players[player['handle']] = player  # Add player to final dict\n",
    "            added_count += 1\n",
    "        # Stop once we've added the required number of players\n",
    "        if added_count == num_players:\n",
    "            break\n",
    "\n",
    "# Dictionary to store the final selected players (no duplicates)\n",
    "selected_players = {}\n",
    "\n",
    "add_top_players(gameChangers, 'avg_combat_score_per_round', 30, selected_players)\n",
    "add_top_players(gameChangers, 'attack_kda', 30, selected_players)\n",
    "add_top_players(gameChangers, 'defense_kda', 30, selected_players)\n",
    "add_top_players(gameChangers, 'avg_damage_dealt_per_round', 10, selected_players)\n",
    "\n",
    "# Final selected players (now guaranteed to have 100 unique players)\n",
    "final_top_players = list(selected_players.values())\n",
    "len(final_top_players)\n"
   ],
   "metadata": {
    "collapsed": false,
    "ExecuteTime": {
     "end_time": "2024-10-24T20:32:20.458505Z",
     "start_time": "2024-10-24T20:32:20.400966Z"
    }
   },
   "id": "c66b7a368bc7b53c",
   "execution_count": 62
  },
  {
   "cell_type": "code",
   "outputs": [],
   "source": [
    "# put modified file into a new file\n",
    "with open('game_changers_100.json', 'w') as file:\n",
    "    json.dump(final_top_players, file, indent=4)"
   ],
   "metadata": {
    "collapsed": false,
    "ExecuteTime": {
     "end_time": "2024-10-24T20:32:20.480704Z",
     "start_time": "2024-10-24T20:32:20.405320Z"
    }
   },
   "id": "58caf38ffe3f4a81",
   "execution_count": 63
  },
  {
   "cell_type": "code",
   "outputs": [],
   "source": [
    "# now do the same for vct challengers and vct international\n",
    "# Dictionary to store the final selected players (no duplicates)\n",
    "selected_players = {}\n",
    "\n",
    "add_top_players(vctInternational, 'avg_combat_score_per_round', 30, selected_players)\n",
    "add_top_players(vctInternational, 'attack_kda', 30, selected_players)\n",
    "add_top_players(vctInternational, 'defense_kda', 30, selected_players)\n",
    "add_top_players(vctInternational, 'avg_damage_dealt_per_round', 10, selected_players)\n",
    "final_top_players = list(selected_players.values())\n",
    "\n",
    "# put modified file into a new file\n",
    "with open('vct_international_100.json', 'w') as file:\n",
    "    json.dump(final_top_players, file, indent=4)"
   ],
   "metadata": {
    "collapsed": false,
    "ExecuteTime": {
     "end_time": "2024-10-24T20:32:20.481425Z",
     "start_time": "2024-10-24T20:32:20.423997Z"
    }
   },
   "id": "f05dc9b022c6d203",
   "execution_count": 64
  },
  {
   "cell_type": "code",
   "outputs": [],
   "source": [
    "selected_players = {}\n",
    "\n",
    "add_top_players(vctChallengers, 'avg_combat_score_per_round', 30, selected_players)\n",
    "add_top_players(vctChallengers, 'attack_kda', 30, selected_players)\n",
    "add_top_players(vctChallengers, 'defense_kda', 30, selected_players)\n",
    "add_top_players(vctChallengers, 'avg_damage_dealt_per_round', 10, selected_players)\n",
    "final_top_players = list(selected_players.values())\n",
    "\n",
    "# put modified file into a new file\n",
    "with open('vct_challengers_100.json', 'w') as file:\n",
    "    json.dump(final_top_players, file, indent=4)"
   ],
   "metadata": {
    "collapsed": false,
    "ExecuteTime": {
     "end_time": "2024-10-24T20:32:20.482797Z",
     "start_time": "2024-10-24T20:32:20.446688Z"
    }
   },
   "id": "175b1f21e0a15215",
   "execution_count": 65
  },
  {
   "cell_type": "code",
   "outputs": [
    {
     "name": "stdout",
     "output_type": "stream",
     "text": [
      "{'handle': 'PatrickWats', 'date': '2024-06-03T11:51:25', 'status': 'active', 'first_name': 'Mark', 'last_name': 'Musni', 'home_team_name': 'ASTRO WORLD', 'home_team_acronym': 'CW', 'home_league_name': 'challengers_sea_ph', 'region': 'SEA', 'tournament': 'vct-challengers', 'career_statistics': {'total_rounds_played': 507, 'attack_kda': 1.5, 'defense_kda': 1.71, 'avg_kills_per_round': 1.06, 'avg_assists_per_round': 0.18, 'avg_combat_score_per_round': 290.18, 'avg_revives_per_round': 0.0, 'avg_damage_dealt_per_round': 146.22, 'avg_first_bloods_per_round': 0.21, 'avg_first_deaths_per_round': 0.17}, 'player_statistics_per_agent': {'Duelist': {'Jett': {'total_rounds_played': 276, 'attack_kda': 1.37, 'defense_kda': 1.79, 'avg_kills_per_round': 1.1, 'avg_assists_per_round': 0.16, 'avg_combat_score_per_round': 300.12, 'avg_revives_per_round': 0.0, 'avg_damage_dealt_per_round': 148.54, 'avg_first_bloods_per_round': 0.22, 'avg_first_deaths_per_round': 0.17}, 'Raze': {'total_rounds_played': 176, 'attack_kda': 1.58, 'defense_kda': 1.44, 'avg_kills_per_round': 0.94, 'avg_assists_per_round': 0.18, 'avg_combat_score_per_round': 261.62, 'avg_revives_per_round': 0.0, 'avg_damage_dealt_per_round': 133.28, 'avg_first_bloods_per_round': 0.21, 'avg_first_deaths_per_round': 0.19}, 'Reyna': {'total_rounds_played': 23, 'attack_kda': 2.22, 'defense_kda': 2.0, 'avg_kills_per_round': 1.3, 'avg_assists_per_round': 0.26, 'avg_combat_score_per_round': 354.91, 'avg_revives_per_round': 0.0, 'avg_damage_dealt_per_round': 167.79, 'avg_first_bloods_per_round': 0.17, 'avg_first_deaths_per_round': 0.04}, 'Neon': {'total_rounds_played': 32, 'attack_kda': 1.64, 'defense_kda': 2.3, 'avg_kills_per_round': 1.16, 'avg_assists_per_round': 0.28, 'avg_combat_score_per_round': 314.97, 'avg_revives_per_round': 0.0, 'avg_damage_dealt_per_round': 181.86, 'avg_first_bloods_per_round': 0.06, 'avg_first_deaths_per_round': 0.19}}}}\n"
     ]
    }
   ],
   "source": [
    "print(final_top_players[1])"
   ],
   "metadata": {
    "collapsed": false,
    "ExecuteTime": {
     "end_time": "2024-10-24T20:32:20.483372Z",
     "start_time": "2024-10-24T20:32:20.463262Z"
    }
   },
   "id": "b2e7a72e3e9c8a6c",
   "execution_count": 66
  },
  {
   "cell_type": "code",
   "outputs": [
    {
     "name": "stdout",
     "output_type": "stream",
     "text": [
      "100\n"
     ]
    }
   ],
   "source": [
    "# Open and load the JSON file\n",
    "with open('game_changers_100.json', 'r') as file:\n",
    "    gameChangers = json.load(file)\n",
    "    \n",
    "print(len(gameChangers))"
   ],
   "metadata": {
    "collapsed": false,
    "ExecuteTime": {
     "end_time": "2024-10-24T20:32:20.483973Z",
     "start_time": "2024-10-24T20:32:20.467876Z"
    }
   },
   "id": "2f9b38b160bc5245",
   "execution_count": 67
  },
  {
   "cell_type": "code",
   "outputs": [],
   "source": [],
   "metadata": {
    "collapsed": false,
    "ExecuteTime": {
     "end_time": "2024-10-24T20:32:20.484245Z",
     "start_time": "2024-10-24T20:32:20.476846Z"
    }
   },
   "id": "8a6637345db71898",
   "execution_count": 67
  }
 ],
 "metadata": {
  "kernelspec": {
   "display_name": "Python 3",
   "language": "python",
   "name": "python3"
  },
  "language_info": {
   "codemirror_mode": {
    "name": "ipython",
    "version": 2
   },
   "file_extension": ".py",
   "mimetype": "text/x-python",
   "name": "python",
   "nbconvert_exporter": "python",
   "pygments_lexer": "ipython2",
   "version": "2.7.6"
  }
 },
 "nbformat": 4,
 "nbformat_minor": 5
}
