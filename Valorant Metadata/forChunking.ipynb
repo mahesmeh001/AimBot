{
 "cells": [
  {
   "cell_type": "code",
   "execution_count": 1,
   "id": "initial_id",
   "metadata": {
    "collapsed": true,
    "ExecuteTime": {
     "end_time": "2024-10-30T21:02:40.236039Z",
     "start_time": "2024-10-30T21:02:40.218315Z"
    }
   },
   "outputs": [],
   "source": [
    "import json\n",
    "\n",
    "\n",
    "def parsefile(file_path):\n",
    "    \n",
    "    with open(file_path, 'r') as file:\n",
    "        data = json.load(file)  # Load JSON data as a list of player objects\n",
    "    \n",
    "    # Step 2: Create a dictionary with the handle as the key\n",
    "    player_data = {}\n",
    "    \n",
    "    for player in data:\n",
    "        handle = player.get(\"handle\")\n",
    "        if handle:\n",
    "            player_data[handle] = player  # Use handle as the key and player data as the value\n",
    "    \n",
    "    return player_data"
   ]
  },
  {
   "cell_type": "code",
   "outputs": [
    {
     "data": {
      "text/plain": "{'handle': 'm4nd',\n 'date': '2023-03-30T06:42:12',\n 'status': 'active',\n 'first_name': 'Isaac',\n 'last_name': 'Barreto',\n 'home_team_name': 'ODDIK',\n 'home_team_acronym': 'ODK',\n 'home_league_name': 'game_changers_series_brazil',\n 'region': 'BR',\n 'tournament': 'game-changers',\n 'career_statistics': {'total_rounds_played': 121,\n  'attack_kda': 1.9,\n  'defense_kda': 1.79,\n  'avg_kills_per_round': 0.93,\n  'avg_assists_per_round': 0.48,\n  'avg_combat_score_per_round': 268.64,\n  'avg_revives_per_round': 0.0,\n  'avg_damage_dealt_per_round': 136.39,\n  'avg_first_bloods_per_round': 0.15,\n  'avg_first_deaths_per_round': 0.12},\n 'player_statistics_per_agent': {'Initiator': {'Breach': {'total_rounds_played': 22,\n    'attack_kda': 0.89,\n    'defense_kda': 2.25,\n    'avg_kills_per_round': 0.68,\n    'avg_assists_per_round': 0.5,\n    'avg_combat_score_per_round': 179.91,\n    'avg_revives_per_round': 0.0,\n    'avg_damage_dealt_per_round': 85.84,\n    'avg_first_bloods_per_round': 0.09,\n    'avg_first_deaths_per_round': 0.14},\n   'KAY/O': {'total_rounds_played': 56,\n    'attack_kda': 2.58,\n    'defense_kda': 2.27,\n    'avg_kills_per_round': 1.12,\n    'avg_assists_per_round': 0.68,\n    'avg_combat_score_per_round': 326.21,\n    'avg_revives_per_round': 0.0,\n    'avg_damage_dealt_per_round': 163.61,\n    'avg_first_bloods_per_round': 0.12,\n    'avg_first_deaths_per_round': 0.09}},\n  'Duelist': {'Neon': {'total_rounds_played': 24,\n    'attack_kda': 2.43,\n    'defense_kda': 1.3,\n    'avg_kills_per_round': 1.12,\n    'avg_assists_per_round': 0.12,\n    'avg_combat_score_per_round': 299.38,\n    'avg_revives_per_round': 0.0,\n    'avg_damage_dealt_per_round': 141.08,\n    'avg_first_bloods_per_round': 0.29,\n    'avg_first_deaths_per_round': 0.17},\n   'Raze': {'total_rounds_played': 19,\n    'attack_kda': 0.14,\n    'defense_kda': 1.2,\n    'avg_kills_per_round': 0.37,\n    'avg_assists_per_round': 0.32,\n    'avg_combat_score_per_round': 162.84,\n    'avg_revives_per_round': 0.0,\n    'avg_damage_dealt_per_round': 108.75,\n    'avg_first_bloods_per_round': 0.11,\n    'avg_first_deaths_per_round': 0.11}}}}"
     },
     "execution_count": 3,
     "metadata": {},
     "output_type": "execute_result"
    }
   ],
   "source": [
    "gameChangers = parsefile('game_changers_100.json')\n",
    "gameChangers['m4nd']"
   ],
   "metadata": {
    "collapsed": false,
    "ExecuteTime": {
     "end_time": "2024-10-30T21:03:07.806385Z",
     "start_time": "2024-10-30T21:03:07.772725Z"
    }
   },
   "id": "a0b850dd36f96e0d",
   "execution_count": 3
  },
  {
   "cell_type": "code",
   "outputs": [],
   "source": [
    "import os\n",
    "import json\n",
    "import shutil\n",
    "\n",
    "def dumpPlayer(players, folder):\n",
    "    # If the folder exists, clear out its contents\n",
    "    if os.path.exists(folder):\n",
    "        shutil.rmtree(folder)  # Remove all contents in the folder\n",
    "    \n",
    "    # Recreate the folder (this ensures it exists and is empty)\n",
    "    os.makedirs(folder, exist_ok=True)\n",
    "    \n",
    "    # Write each player's data to a separate JSON file in the folder\n",
    "    for handle, data in players.items():\n",
    "        file_path = os.path.join(folder, f\"{handle}.json\")\n",
    "        \n",
    "        # Write the player's data to the JSON file\n",
    "        with open(file_path, 'w') as file:\n",
    "            json.dump(data, file, indent=4)\n"
   ],
   "metadata": {
    "collapsed": false,
    "ExecuteTime": {
     "end_time": "2024-10-30T21:10:20.073310Z",
     "start_time": "2024-10-30T21:10:20.070986Z"
    }
   },
   "id": "d4b09ef7d121cab4",
   "execution_count": 7
  },
  {
   "cell_type": "code",
   "outputs": [],
   "source": [
    "dumpPlayer(gameChangers, 'game_changers_chunking')"
   ],
   "metadata": {
    "collapsed": false,
    "ExecuteTime": {
     "end_time": "2024-10-30T21:08:23.883068Z",
     "start_time": "2024-10-30T21:08:23.825253Z"
    }
   },
   "id": "b6b9ab22b3990480",
   "execution_count": 6
  },
  {
   "cell_type": "code",
   "outputs": [],
   "source": [
    "# do the same for VCT-Int and VCT Challengers\n",
    "vctInt = parsefile('vct-international.json')\n",
    "dumpPlayer(vctInt, 'vct_international_chunking')\n",
    "\n",
    "vctChal = parsefile('vct-challengers.json')\n",
    "dumpPlayer(vctChal, 'vct_challengers_chunking')\n"
   ],
   "metadata": {
    "collapsed": false,
    "ExecuteTime": {
     "end_time": "2024-10-30T21:10:54.204905Z",
     "start_time": "2024-10-30T21:10:52.967233Z"
    }
   },
   "id": "b8640a3a50d86170",
   "execution_count": 8
  },
  {
   "cell_type": "code",
   "outputs": [],
   "source": [],
   "metadata": {
    "collapsed": false
   },
   "id": "10ebab1331f404d5"
  }
 ],
 "metadata": {
  "kernelspec": {
   "display_name": "Python 3",
   "language": "python",
   "name": "python3"
  },
  "language_info": {
   "codemirror_mode": {
    "name": "ipython",
    "version": 2
   },
   "file_extension": ".py",
   "mimetype": "text/x-python",
   "name": "python",
   "nbconvert_exporter": "python",
   "pygments_lexer": "ipython2",
   "version": "2.7.6"
  }
 },
 "nbformat": 4,
 "nbformat_minor": 5
}
